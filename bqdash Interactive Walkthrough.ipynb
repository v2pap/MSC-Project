{
 "cells": [
  {
   "cell_type": "markdown",
   "metadata": {},
   "source": [
    "<h1><a name=\"title\"></a><span style=\"color:orange\">BqDash: A Visualisation Library for Financial DashBoards</span></h1>\n",
    "\n",
    "<p> BqDash is a library that makes it easy to create Interactive DashBoards helping you tell better stories from you data<br>\n",
    "\n",
    "</p>\n",
    "\n",
    "<h4><span style=\"color:orange\">Choose from 3 Dashboards</span></h4>\n",
    "<p>\n",
    "<ul>\n",
    "    <li><a href=\"#portfolio\">The Portfolio Dashboard</a><br>\n",
    "        Use this dashboard to get key exposure insights on your portfolio based on the groupings that you define</li>\n",
    "    <li><a href=\"#scoring\">The Scoring  Dashboard</a><br>\n",
    "        Use this dashboard to gain insights into your scoring model on your portfolio or benchmark</li>\n",
    "    <li><a href=\"#esg\">The ESG Dashboard</a><br>\n",
    "        Use this dashboard to generate an Environmental, Social & Governance report for a security</li>\n",
    "</ul>\n",
    "</p>"
   ]
  },
  {
   "cell_type": "code",
   "execution_count": 9,
   "metadata": {},
   "outputs": [
    {
     "name": "stdout",
     "output_type": "stream",
     "text": [
      "The autoreload extension is already loaded. To reload it, use:\n",
      "  %reload_ext autoreload\n"
     ]
    }
   ],
   "source": [
    "%load_ext autoreload\n",
    "%autoreload 2"
   ]
  },
  {
   "cell_type": "markdown",
   "metadata": {},
   "source": [
    "<a id='portfolio'></a>\n",
    "<h3><span style=\"color:orange\">The Portfolio Dashboard</span></h3>\n",
    "\n",
    "<h5> Use this dashboard to get key exposure insights on your portfolio</h5>\n",
    "\n",
    "<h3><span style=\"color:dodgerblue\">Key Features</span></h3>\n",
    "\n",
    "<h5> - Click on a grouping to see the transparency of the holdings, and investigate what securities are driving your exposure</h5>\n",
    "<h5> - Change the type dropdown to pivot the view for fund, index or active weight exposures</h5>\n",
    "<h5> - Change the x/y grouping dropdowns select what catergories to view your exposures</h5>"
   ]
  },
  {
   "cell_type": "code",
   "execution_count": 10,
   "metadata": {},
   "outputs": [],
   "source": [
    "#import the relevant dashboard from the library\n",
    "from bqdash import PortfolioDashboard"
   ]
  },
  {
   "cell_type": "code",
   "execution_count": 11,
   "metadata": {},
   "outputs": [
    {
     "data": {
      "text/html": [
       "<div>\n",
       "<style scoped>\n",
       "    .dataframe tbody tr th:only-of-type {\n",
       "        vertical-align: middle;\n",
       "    }\n",
       "\n",
       "    .dataframe tbody tr th {\n",
       "        vertical-align: top;\n",
       "    }\n",
       "\n",
       "    .dataframe thead th {\n",
       "        text-align: right;\n",
       "    }\n",
       "</style>\n",
       "<table border=\"1\" class=\"dataframe\">\n",
       "  <thead>\n",
       "    <tr style=\"text-align: right;\">\n",
       "      <th></th>\n",
       "      <th>ID</th>\n",
       "      <th>Name</th>\n",
       "      <th>Sector</th>\n",
       "      <th>Country</th>\n",
       "      <th>Region</th>\n",
       "      <th>Credit Rating</th>\n",
       "      <th>Currency</th>\n",
       "      <th>Fund (%)</th>\n",
       "      <th>Index (%)</th>\n",
       "      <th>Active (%)</th>\n",
       "    </tr>\n",
       "  </thead>\n",
       "  <tbody>\n",
       "    <tr>\n",
       "      <th>0</th>\n",
       "      <td>1 HK Equity</td>\n",
       "      <td>CK Hutchison Holdings Ltd</td>\n",
       "      <td>Industrials</td>\n",
       "      <td>HK</td>\n",
       "      <td>Asia</td>\n",
       "      <td>A</td>\n",
       "      <td>HKD</td>\n",
       "      <td>0.039981</td>\n",
       "      <td>0.020410</td>\n",
       "      <td>0.019571</td>\n",
       "    </tr>\n",
       "    <tr>\n",
       "      <th>1</th>\n",
       "      <td>101 HK Equity</td>\n",
       "      <td>Hang Lung Properties Ltd</td>\n",
       "      <td>Real Estate</td>\n",
       "      <td>HK</td>\n",
       "      <td>Asia</td>\n",
       "      <td>NaN</td>\n",
       "      <td>HKD</td>\n",
       "      <td>0.011732</td>\n",
       "      <td>0.108427</td>\n",
       "      <td>-0.096695</td>\n",
       "    </tr>\n",
       "    <tr>\n",
       "      <th>2</th>\n",
       "      <td>1038 HK Equity</td>\n",
       "      <td>CK Infrastructure Holdings Ltd</td>\n",
       "      <td>Utilities</td>\n",
       "      <td>HK</td>\n",
       "      <td>Asia</td>\n",
       "      <td>A</td>\n",
       "      <td>HKD</td>\n",
       "      <td>0.007842</td>\n",
       "      <td>0.043371</td>\n",
       "      <td>-0.035529</td>\n",
       "    </tr>\n",
       "    <tr>\n",
       "      <th>3</th>\n",
       "      <td>11 HK Equity</td>\n",
       "      <td>Hang Seng Bank Ltd</td>\n",
       "      <td>Financials</td>\n",
       "      <td>HK</td>\n",
       "      <td>Asia</td>\n",
       "      <td>AA-</td>\n",
       "      <td>HKD</td>\n",
       "      <td>0.027206</td>\n",
       "      <td>0.033166</td>\n",
       "      <td>-0.005960</td>\n",
       "    </tr>\n",
       "    <tr>\n",
       "      <th>4</th>\n",
       "      <td>1113 HK Equity</td>\n",
       "      <td>CK Asset Holdings Ltd</td>\n",
       "      <td>Real Estate</td>\n",
       "      <td>HK</td>\n",
       "      <td>Asia</td>\n",
       "      <td>A</td>\n",
       "      <td>HKD</td>\n",
       "      <td>0.031665</td>\n",
       "      <td>0.038268</td>\n",
       "      <td>-0.006603</td>\n",
       "    </tr>\n",
       "  </tbody>\n",
       "</table>\n",
       "</div>"
      ],
      "text/plain": [
       "               ID                            Name       Sector Country Region  \\\n",
       "0     1 HK Equity       CK Hutchison Holdings Ltd  Industrials      HK   Asia   \n",
       "1   101 HK Equity        Hang Lung Properties Ltd  Real Estate      HK   Asia   \n",
       "2  1038 HK Equity  CK Infrastructure Holdings Ltd    Utilities      HK   Asia   \n",
       "3    11 HK Equity              Hang Seng Bank Ltd   Financials      HK   Asia   \n",
       "4  1113 HK Equity           CK Asset Holdings Ltd  Real Estate      HK   Asia   \n",
       "\n",
       "  Credit Rating Currency  Fund (%)  Index (%)  Active (%)  \n",
       "0             A      HKD  0.039981   0.020410    0.019571  \n",
       "1           NaN      HKD  0.011732   0.108427   -0.096695  \n",
       "2             A      HKD  0.007842   0.043371   -0.035529  \n",
       "3           AA-      HKD  0.027206   0.033166   -0.005960  \n",
       "4             A      HKD  0.031665   0.038268   -0.006603  "
      ]
     },
     "execution_count": 11,
     "metadata": {},
     "output_type": "execute_result"
    }
   ],
   "source": [
    "# Data should be provided as a pandas DataFrame which is a key data analysis library for python\n",
    "# This Dashboard requires a minimum dataset of: Security ID, Portfolio Weight, Index Weight and at least 2 grouping variable.\n",
    "# In the sample data set we provide 4 groupings\n",
    "from bqdash.sample_data import port_sample_data\n",
    "port_sample_data.head()"
   ]
  },
  {
   "cell_type": "markdown",
   "metadata": {},
   "source": [
    "\n",
    "<h5>Map your columns to tell BqDash the important items in your dataset</h5>"
   ]
  },
  {
   "cell_type": "code",
   "execution_count": 14,
   "metadata": {},
   "outputs": [],
   "source": [
    "column_mappings = {'id_field':'Name', \n",
    "                   'group_field':['Sector','Region','Currency','Credit Rating'],\n",
    "                   'port_field':'Fund (%)',\n",
    "                   'index_field':'Index (%)'}"
   ]
  },
  {
   "cell_type": "code",
   "execution_count": 15,
   "metadata": {},
   "outputs": [
    {
     "data": {
      "application/vnd.jupyter.widget-view+json": {
       "model_id": "723a18fc75e64b86ab528fa8db0cb37b",
       "version_major": 2,
       "version_minor": 0
      },
      "text/plain": [
       "PortfolioDashboard(children=(HBox(children=(HTML(value='\\n            <h1  style=\" font-family: \"Helvetica Neu…"
      ]
     },
     "metadata": {},
     "output_type": "display_data"
    }
   ],
   "source": [
    "port = PortfolioDashboard(df=port_sample_data,column_mappings = column_mappings)\n",
    "port"
   ]
  },
  {
   "cell_type": "code",
   "execution_count": 26,
   "metadata": {},
   "outputs": [],
   "source": [
    "import matplotlib as mpl\n",
    "import seaborn as sns\n",
    "x = sns.light_palette(\"seagreen\")\n",
    "g = list(map(mpl.colors.rgb2hex, x))"
   ]
  },
  {
   "cell_type": "code",
   "execution_count": 27,
   "metadata": {},
   "outputs": [],
   "source": [
    "\n",
    "port.update_colors({'heat_map':g})"
   ]
  },
  {
   "cell_type": "markdown",
   "metadata": {},
   "source": [
    "<a id='scoring'></a>\n",
    "<h3><span style=\"color:orange\">The Scoring Dashboard</span></h3>\n",
    "\n",
    "<h5> Use this dashboard to create an scorecard for you securities and gain valuable insight into their relative value</h5>\n",
    "\n",
    "<h3><span style=\"color:dodgerblue\">Key Features</span></h3>\n",
    "\n",
    "<h5> - Generate an Aggregate view based on a grouping of your choice</h5>\n",
    "<h5> - View the Distribution of the universe scores</h5>\n",
    "<h5> - Interact with the chart figures to dive deeper into the data and see the transparency in real-time</h5>"
   ]
  },
  {
   "cell_type": "code",
   "execution_count": 28,
   "metadata": {},
   "outputs": [],
   "source": [
    "#import the relevant dashboard from the library\n",
    "from bqdash import ScoringDashboard"
   ]
  },
  {
   "cell_type": "code",
   "execution_count": 29,
   "metadata": {},
   "outputs": [
    {
     "data": {
      "text/html": [
       "<div>\n",
       "<style scoped>\n",
       "    .dataframe tbody tr th:only-of-type {\n",
       "        vertical-align: middle;\n",
       "    }\n",
       "\n",
       "    .dataframe tbody tr th {\n",
       "        vertical-align: top;\n",
       "    }\n",
       "\n",
       "    .dataframe thead th {\n",
       "        text-align: right;\n",
       "    }\n",
       "</style>\n",
       "<table border=\"1\" class=\"dataframe\">\n",
       "  <thead>\n",
       "    <tr style=\"text-align: right;\">\n",
       "      <th></th>\n",
       "      <th>ID</th>\n",
       "      <th>Name</th>\n",
       "      <th>Sector</th>\n",
       "      <th>Factor 1</th>\n",
       "      <th>Factor 2</th>\n",
       "      <th>Factor 3</th>\n",
       "      <th>Factor 4</th>\n",
       "      <th>Factor 5</th>\n",
       "      <th>Factor 6</th>\n",
       "      <th>Factor 7</th>\n",
       "      <th>Factor 8</th>\n",
       "      <th>Factor 9</th>\n",
       "      <th>Factor 10</th>\n",
       "      <th>Total Score</th>\n",
       "      <th>DATE</th>\n",
       "    </tr>\n",
       "  </thead>\n",
       "  <tbody>\n",
       "    <tr>\n",
       "      <th>0</th>\n",
       "      <td>BG039176 Corp</td>\n",
       "      <td>TPEIR 5 ½ 02/19/30</td>\n",
       "      <td>Financial</td>\n",
       "      <td>-0.83</td>\n",
       "      <td>-0.77</td>\n",
       "      <td>-0.82</td>\n",
       "      <td>3.09</td>\n",
       "      <td>0.61</td>\n",
       "      <td>-2.70</td>\n",
       "      <td>0.95</td>\n",
       "      <td>-2.52</td>\n",
       "      <td>0.25</td>\n",
       "      <td>0.01</td>\n",
       "      <td>-2.73</td>\n",
       "      <td>2020-07-16</td>\n",
       "    </tr>\n",
       "    <tr>\n",
       "      <th>1</th>\n",
       "      <td>ZP935314 Corp</td>\n",
       "      <td>ALPHA 4 ¼ 02/13/30</td>\n",
       "      <td>Financial</td>\n",
       "      <td>-1.28</td>\n",
       "      <td>-1.21</td>\n",
       "      <td>-1.27</td>\n",
       "      <td>3.09</td>\n",
       "      <td>0.61</td>\n",
       "      <td>-2.70</td>\n",
       "      <td>0.95</td>\n",
       "      <td>-2.52</td>\n",
       "      <td>0.25</td>\n",
       "      <td>0.01</td>\n",
       "      <td>-4.07</td>\n",
       "      <td>2020-07-16</td>\n",
       "    </tr>\n",
       "    <tr>\n",
       "      <th>2</th>\n",
       "      <td>AT183051 Corp</td>\n",
       "      <td>MOGOFI 9 ½ 07/10/22</td>\n",
       "      <td>Financial</td>\n",
       "      <td>-3.01</td>\n",
       "      <td>-2.91</td>\n",
       "      <td>-3.03</td>\n",
       "      <td>-0.86</td>\n",
       "      <td>-1.81</td>\n",
       "      <td>-0.03</td>\n",
       "      <td>0.99</td>\n",
       "      <td>1.76</td>\n",
       "      <td>-4.07</td>\n",
       "      <td>-1.52</td>\n",
       "      <td>-14.49</td>\n",
       "      <td>2020-07-16</td>\n",
       "    </tr>\n",
       "    <tr>\n",
       "      <th>3</th>\n",
       "      <td>BK424601 Corp</td>\n",
       "      <td>AVTR 3 ? 07/15/28</td>\n",
       "      <td>Consumer, Non-cyclical</td>\n",
       "      <td>-2.81</td>\n",
       "      <td>-2.58</td>\n",
       "      <td>-2.76</td>\n",
       "      <td>-0.92</td>\n",
       "      <td>-0.53</td>\n",
       "      <td>-0.75</td>\n",
       "      <td>-2.01</td>\n",
       "      <td>0.09</td>\n",
       "      <td>0.17</td>\n",
       "      <td>-1.69</td>\n",
       "      <td>-13.79</td>\n",
       "      <td>2020-07-16</td>\n",
       "    </tr>\n",
       "    <tr>\n",
       "      <th>4</th>\n",
       "      <td>BK321520 Corp</td>\n",
       "      <td>ALGSCO 6 ½ 02/15/23</td>\n",
       "      <td>Consumer, Non-cyclical</td>\n",
       "      <td>-4.44</td>\n",
       "      <td>-4.16</td>\n",
       "      <td>-4.39</td>\n",
       "      <td>-0.37</td>\n",
       "      <td>-0.96</td>\n",
       "      <td>1.06</td>\n",
       "      <td>-0.61</td>\n",
       "      <td>0.00</td>\n",
       "      <td>0.28</td>\n",
       "      <td>-0.18</td>\n",
       "      <td>-13.77</td>\n",
       "      <td>2020-07-16</td>\n",
       "    </tr>\n",
       "  </tbody>\n",
       "</table>\n",
       "</div>"
      ],
      "text/plain": [
       "              ID                 Name                  Sector  Factor 1  \\\n",
       "0  BG039176 Corp   TPEIR 5 ½ 02/19/30               Financial     -0.83   \n",
       "1  ZP935314 Corp   ALPHA 4 ¼ 02/13/30               Financial     -1.28   \n",
       "2  AT183051 Corp  MOGOFI 9 ½ 07/10/22               Financial     -3.01   \n",
       "3  BK424601 Corp    AVTR 3 ? 07/15/28  Consumer, Non-cyclical     -2.81   \n",
       "4  BK321520 Corp  ALGSCO 6 ½ 02/15/23  Consumer, Non-cyclical     -4.44   \n",
       "\n",
       "   Factor 2  Factor 3  Factor 4  Factor 5  Factor 6  Factor 7  Factor 8  \\\n",
       "0     -0.77     -0.82      3.09      0.61     -2.70      0.95     -2.52   \n",
       "1     -1.21     -1.27      3.09      0.61     -2.70      0.95     -2.52   \n",
       "2     -2.91     -3.03     -0.86     -1.81     -0.03      0.99      1.76   \n",
       "3     -2.58     -2.76     -0.92     -0.53     -0.75     -2.01      0.09   \n",
       "4     -4.16     -4.39     -0.37     -0.96      1.06     -0.61      0.00   \n",
       "\n",
       "   Factor 9  Factor 10  Total Score       DATE  \n",
       "0      0.25       0.01        -2.73 2020-07-16  \n",
       "1      0.25       0.01        -4.07 2020-07-16  \n",
       "2     -4.07      -1.52       -14.49 2020-07-16  \n",
       "3      0.17      -1.69       -13.79 2020-07-16  \n",
       "4      0.28      -0.18       -13.77 2020-07-16  "
      ]
     },
     "execution_count": 29,
     "metadata": {},
     "output_type": "execute_result"
    }
   ],
   "source": [
    "# Data should be provided as a pandas DataFrame which is the main data analysis library for python\n",
    "# This Dashboard requires a minimum dataset of: Security ID, grouping variable, individual factor scores, total Score, date\n",
    "# In the sample data set we provide 10 factor scores\n",
    "from bqdash.sample_data import scoring_sample_data\n",
    "scoring_sample_data.head()"
   ]
  },
  {
   "cell_type": "code",
   "execution_count": 39,
   "metadata": {},
   "outputs": [
    {
     "data": {
      "application/vnd.jupyter.widget-view+json": {
       "model_id": "1a28eb82bfc946c0be431bbac59049e9",
       "version_major": 2,
       "version_minor": 0
      },
      "text/plain": [
       "ScoringDashboard(children=(HBox(children=(HTML(value='\\n            <h1  style=\" font-family: \"Helvetica Neue\"…"
      ]
     },
     "metadata": {},
     "output_type": "display_data"
    }
   ],
   "source": [
    "columns = {'id_field':'Name', \n",
    "          'group_field':'Sector',\n",
    "          'total_score_field':'Total Score',\n",
    "          'date_field':'DATE',\n",
    "          'factor_score_fields':['Factor 1','Factor 2','Factor 3','Factor 4','Factor 5','Factor 6','Factor 7','Factor 8','Factor 9','Factor 10']}\n",
    "score_ui = ScoringDashboard(df=scoring_sample_data,column_mappings = columns)\n",
    "score_ui"
   ]
  },
  {
   "cell_type": "markdown",
   "metadata": {},
   "source": [
    "<h5> Update the colors of key elements of the dashboard.<br> \n",
    "    <br>\n",
    "    Currently supported: distribution chart, median chart and scatter chart</h5>"
   ]
  },
  {
   "cell_type": "code",
   "execution_count": 40,
   "metadata": {},
   "outputs": [],
   "source": [
    "score_ui.update_colors({'distribution':'dodgerblue','median':'dodgerblue','scatter':'dodgerblue'})"
   ]
  },
  {
   "cell_type": "markdown",
   "metadata": {},
   "source": [
    "<a id='esg'></a>\n",
    "<h3><span style=\"color:orange\">The ESG Dashboard</span></h3>\n",
    "\n",
    "<h3><span style=\"color:dodgerblue\">Key Features</span></h3>\n",
    "\n",
    "<h5> - Create individual ESG reports for the securities in your benchmark/portfolio</h5>\n",
    "<h5> - Compare Internal ratings to thrid party provided ratings clearly and visually</h5>\n",
    "<h5> - Track peer group performance </h5>"
   ]
  },
  {
   "cell_type": "code",
   "execution_count": 41,
   "metadata": {},
   "outputs": [],
   "source": [
    "#import the relevant dashboard from the library\n",
    "from bqdash import EsgDashboard"
   ]
  },
  {
   "cell_type": "code",
   "execution_count": 42,
   "metadata": {},
   "outputs": [
    {
     "data": {
      "text/html": [
       "<div>\n",
       "<style scoped>\n",
       "    .dataframe tbody tr th:only-of-type {\n",
       "        vertical-align: middle;\n",
       "    }\n",
       "\n",
       "    .dataframe tbody tr th {\n",
       "        vertical-align: top;\n",
       "    }\n",
       "\n",
       "    .dataframe thead th {\n",
       "        text-align: right;\n",
       "    }\n",
       "</style>\n",
       "<table border=\"1\" class=\"dataframe\">\n",
       "  <thead>\n",
       "    <tr style=\"text-align: right;\">\n",
       "      <th></th>\n",
       "      <th>ID</th>\n",
       "      <th>NAME</th>\n",
       "      <th>GICS_SUB_INDUSTRY_NAME</th>\n",
       "      <th>DES</th>\n",
       "      <th>CNTRY_OF_DOMICILE</th>\n",
       "      <th>RATING DATE</th>\n",
       "      <th>Third Party ESG Rating</th>\n",
       "      <th>Internal ESG Rating</th>\n",
       "      <th>Pollution &amp; Waste</th>\n",
       "      <th>Climate Change</th>\n",
       "      <th>Corporate Governance</th>\n",
       "      <th>Product Liability</th>\n",
       "      <th>Social Opportunities</th>\n",
       "      <th>Human Capital</th>\n",
       "    </tr>\n",
       "  </thead>\n",
       "  <tbody>\n",
       "    <tr>\n",
       "      <th>0</th>\n",
       "      <td>AXP UN Equity</td>\n",
       "      <td>American Express Co</td>\n",
       "      <td>Consumer Finance</td>\n",
       "      <td>American Express Company is a global payment a...</td>\n",
       "      <td>US</td>\n",
       "      <td>2019-08-05</td>\n",
       "      <td>A</td>\n",
       "      <td>1</td>\n",
       "      <td>4</td>\n",
       "      <td>1</td>\n",
       "      <td>1</td>\n",
       "      <td>1</td>\n",
       "      <td>1</td>\n",
       "      <td>1</td>\n",
       "    </tr>\n",
       "    <tr>\n",
       "      <th>1</th>\n",
       "      <td>VZ UN Equity</td>\n",
       "      <td>Verizon Communications Inc</td>\n",
       "      <td>Integrated Telecommunication Services</td>\n",
       "      <td>Verizon Communications Inc. is an integrated t...</td>\n",
       "      <td>US</td>\n",
       "      <td>2019-08-05</td>\n",
       "      <td>AA</td>\n",
       "      <td>2</td>\n",
       "      <td>2</td>\n",
       "      <td>2</td>\n",
       "      <td>1</td>\n",
       "      <td>3</td>\n",
       "      <td>3</td>\n",
       "      <td>2</td>\n",
       "    </tr>\n",
       "    <tr>\n",
       "      <th>2</th>\n",
       "      <td>BA UN Equity</td>\n",
       "      <td>Boeing Co/The</td>\n",
       "      <td>Aerospace &amp; Defense</td>\n",
       "      <td>The Boeing Company, together with its subsidia...</td>\n",
       "      <td>US</td>\n",
       "      <td>2019-08-05</td>\n",
       "      <td>A</td>\n",
       "      <td>3</td>\n",
       "      <td>4</td>\n",
       "      <td>2</td>\n",
       "      <td>3</td>\n",
       "      <td>1</td>\n",
       "      <td>4</td>\n",
       "      <td>1</td>\n",
       "    </tr>\n",
       "    <tr>\n",
       "      <th>3</th>\n",
       "      <td>CAT UN Equity</td>\n",
       "      <td>Caterpillar Inc</td>\n",
       "      <td>Construction Machinery &amp; Heavy Trucks</td>\n",
       "      <td>Caterpillar Inc. designs, manufactures, and ma...</td>\n",
       "      <td>US</td>\n",
       "      <td>2019-08-05</td>\n",
       "      <td>BBB</td>\n",
       "      <td>1</td>\n",
       "      <td>4</td>\n",
       "      <td>3</td>\n",
       "      <td>4</td>\n",
       "      <td>1</td>\n",
       "      <td>3</td>\n",
       "      <td>2</td>\n",
       "    </tr>\n",
       "    <tr>\n",
       "      <th>4</th>\n",
       "      <td>JPM UN Equity</td>\n",
       "      <td>JPMorgan Chase &amp; Co</td>\n",
       "      <td>Diversified Banks</td>\n",
       "      <td>JPMorgan Chase &amp; Co. provides global financial...</td>\n",
       "      <td>US</td>\n",
       "      <td>2019-08-05</td>\n",
       "      <td>AAA</td>\n",
       "      <td>2</td>\n",
       "      <td>3</td>\n",
       "      <td>4</td>\n",
       "      <td>3</td>\n",
       "      <td>1</td>\n",
       "      <td>4</td>\n",
       "      <td>1</td>\n",
       "    </tr>\n",
       "  </tbody>\n",
       "</table>\n",
       "</div>"
      ],
      "text/plain": [
       "              ID                        NAME  \\\n",
       "0  AXP UN Equity         American Express Co   \n",
       "1   VZ UN Equity  Verizon Communications Inc   \n",
       "2   BA UN Equity               Boeing Co/The   \n",
       "3  CAT UN Equity             Caterpillar Inc   \n",
       "4  JPM UN Equity         JPMorgan Chase & Co   \n",
       "\n",
       "                  GICS_SUB_INDUSTRY_NAME  \\\n",
       "0                       Consumer Finance   \n",
       "1  Integrated Telecommunication Services   \n",
       "2                    Aerospace & Defense   \n",
       "3  Construction Machinery & Heavy Trucks   \n",
       "4                      Diversified Banks   \n",
       "\n",
       "                                                 DES CNTRY_OF_DOMICILE  \\\n",
       "0  American Express Company is a global payment a...                US   \n",
       "1  Verizon Communications Inc. is an integrated t...                US   \n",
       "2  The Boeing Company, together with its subsidia...                US   \n",
       "3  Caterpillar Inc. designs, manufactures, and ma...                US   \n",
       "4  JPMorgan Chase & Co. provides global financial...                US   \n",
       "\n",
       "  RATING DATE Third Party ESG Rating  Internal ESG Rating  Pollution & Waste  \\\n",
       "0  2019-08-05                      A                    1                  4   \n",
       "1  2019-08-05                     AA                    2                  2   \n",
       "2  2019-08-05                      A                    3                  4   \n",
       "3  2019-08-05                    BBB                    1                  4   \n",
       "4  2019-08-05                    AAA                    2                  3   \n",
       "\n",
       "   Climate Change  Corporate Governance  Product Liability  \\\n",
       "0               1                     1                  1   \n",
       "1               2                     1                  3   \n",
       "2               2                     3                  1   \n",
       "3               3                     4                  1   \n",
       "4               4                     3                  1   \n",
       "\n",
       "   Social Opportunities  Human Capital  \n",
       "0                     1              1  \n",
       "1                     3              2  \n",
       "2                     4              1  \n",
       "3                     3              2  \n",
       "4                     4              1  "
      ]
     },
     "execution_count": 42,
     "metadata": {},
     "output_type": "execute_result"
    }
   ],
   "source": [
    "# Data should be provided as a pandas DataFrame which is the main data analysis library for python\n",
    "# This Dashboard requires a minimum dataset of: Security ID, sector, company description, internal rating, third party rating, third party rating date, individal esg factor scores\n",
    "# In the sample data set we provide 8 esg factor scores\n",
    "from bqdash.sample_data import esg_sample_data\n",
    "esg_sample_data.head()"
   ]
  },
  {
   "cell_type": "code",
   "execution_count": 44,
   "metadata": {},
   "outputs": [
    {
     "data": {
      "application/vnd.jupyter.widget-view+json": {
       "model_id": "5a4944bf94fb444084bf2028f91b2fec",
       "version_major": 2,
       "version_minor": 0
      },
      "text/plain": [
       "EsgDashboard(children=(HBox(children=(HTML(value='\\n            <h1  style=\" font-family: \"Helvetica Neue\", He…"
      ]
     },
     "metadata": {},
     "output_type": "display_data"
    }
   ],
   "source": [
    "columns = {'id_field':'NAME', \n",
    "           'description_field':'DES',\n",
    "           'sector_field':'GICS_SUB_INDUSTRY_NAME',\n",
    "           'internal_score':'Internal ESG Rating',\n",
    "           'third_party_score':'Third Party ESG Rating',\n",
    "           'third_party_score_date':'RATING DATE',\n",
    "           'factor_score_fields':['Pollution & Waste','Climate Change','Corporate Governance',\n",
    "                                  'Product Liability','Social Opportunities','Human Capital']}\n",
    "\n",
    "esg = EsgDashboard(df=esg_sample_data,column_mappings=columns)\n",
    "esg"
   ]
  },
  {
   "cell_type": "code",
   "execution_count": 96,
   "metadata": {},
   "outputs": [
    {
     "name": "stdout",
     "output_type": "stream",
     "text": [
      "Need to Run Report First!\n"
     ]
    }
   ],
   "source": [
    "esg.update_colors({'name':'dodgerblue','industry':'dodgerblue','des':'dodgerblue','third_party':'dodgerblue'})"
   ]
  },
  {
   "cell_type": "code",
   "execution_count": null,
   "metadata": {},
   "outputs": [],
   "source": []
  }
 ],
 "metadata": {
  "kernelspec": {
   "display_name": "Python 3",
   "language": "python",
   "name": "python3"
  },
  "language_info": {
   "codemirror_mode": {
    "name": "ipython",
    "version": 3
   },
   "file_extension": ".py",
   "mimetype": "text/x-python",
   "name": "python",
   "nbconvert_exporter": "python",
   "pygments_lexer": "ipython3",
   "version": "3.8.5"
  }
 },
 "nbformat": 4,
 "nbformat_minor": 4
}
