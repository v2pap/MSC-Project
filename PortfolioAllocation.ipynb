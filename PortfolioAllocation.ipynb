{
 "cells": [
  {
   "cell_type": "markdown",
   "metadata": {},
   "source": [
    "\n",
    "<h1><a name=\"title\"></a><span style=\"color:orange\">BqDash: A Visualisation Library for Financial Dashboards</span></h1>\n",
    "\n",
    " \n",
    "<h3  style=\"color:white;\"> BqDash is a library that makes it easy to create Interactive Dashboards helping you tell better stories from your data<br></h3>\n",
    "\n",
    "\n"
   ]
  },
  {
   "cell_type": "markdown",
   "metadata": {},
   "source": [
    "<a id='portfolio'></a>\n",
    "\n",
    "<h3><span style=\"color:orange\">The Portfolio Allocation Dashboard</span><br><span style=\"color:white\">Use this dashboard to get key exposure insights on your portfolio</span></h3>\n",
    "\n",
    "\n",
    "\n",
    "\n",
    "<div  style=\"background-color:#202020;\">\n",
    "<h3><span style=\"color:forestgreen\">Key Features</span></h3>\n",
    "\n",
    "- Click on a grouping to see the transparency of the holdings, and investigate what securities are driving your exposure<br>\n",
    "- Change the type dropdown to pivot the view for fund, index or active weight exposures<br>\n",
    "- Change the x/y grouping dropdowns and select what catergories to view your exposures<br><br>\n",
    "</div>"
   ]
  },
  {
   "cell_type": "markdown",
   "metadata": {},
   "source": [
    "<h3><span style=\"color:orange\">Import</span><br><span style=\"color:white\">import the PortfolioDashboard from the bqdash library</span></h3>"
   ]
  },
  {
   "cell_type": "code",
   "execution_count": 11,
   "metadata": {},
   "outputs": [],
   "source": [
    "#import the PortfolioDashboard from the bqdash library\n",
    "from bqdash import PortfolioDashboard"
   ]
  },
  {
   "cell_type": "markdown",
   "metadata": {},
   "source": [
    "<h3><span style=\"color:orange\">Provide Your data</span><br><span style=\"color:white\">Review the sample data set to understand what you need to provide</span></h3>"
   ]
  },
  {
   "cell_type": "code",
   "execution_count": 12,
   "metadata": {},
   "outputs": [
    {
     "data": {
      "text/html": [
       "<div>\n",
       "<style scoped>\n",
       "    .dataframe tbody tr th:only-of-type {\n",
       "        vertical-align: middle;\n",
       "    }\n",
       "\n",
       "    .dataframe tbody tr th {\n",
       "        vertical-align: top;\n",
       "    }\n",
       "\n",
       "    .dataframe thead th {\n",
       "        text-align: right;\n",
       "    }\n",
       "</style>\n",
       "<table border=\"1\" class=\"dataframe\">\n",
       "  <thead>\n",
       "    <tr style=\"text-align: right;\">\n",
       "      <th></th>\n",
       "      <th>ID</th>\n",
       "      <th>Name</th>\n",
       "      <th>Sector</th>\n",
       "      <th>Country</th>\n",
       "      <th>Region</th>\n",
       "      <th>Credit Rating</th>\n",
       "      <th>Currency</th>\n",
       "      <th>Portfolio Weight</th>\n",
       "      <th>Index Weight</th>\n",
       "      <th>Active (%)</th>\n",
       "    </tr>\n",
       "  </thead>\n",
       "  <tbody>\n",
       "    <tr>\n",
       "      <th>0</th>\n",
       "      <td>1 HK Equity</td>\n",
       "      <td>CK Hutchison Holdings Ltd</td>\n",
       "      <td>Industrials</td>\n",
       "      <td>HK</td>\n",
       "      <td>Asia</td>\n",
       "      <td>A</td>\n",
       "      <td>HKD</td>\n",
       "      <td>0.039981</td>\n",
       "      <td>0.020410</td>\n",
       "      <td>0.019571</td>\n",
       "    </tr>\n",
       "    <tr>\n",
       "      <th>1</th>\n",
       "      <td>101 HK Equity</td>\n",
       "      <td>Hang Lung Properties Ltd</td>\n",
       "      <td>Real Estate</td>\n",
       "      <td>HK</td>\n",
       "      <td>Asia</td>\n",
       "      <td>NaN</td>\n",
       "      <td>HKD</td>\n",
       "      <td>0.011732</td>\n",
       "      <td>0.108427</td>\n",
       "      <td>-0.096695</td>\n",
       "    </tr>\n",
       "    <tr>\n",
       "      <th>2</th>\n",
       "      <td>1038 HK Equity</td>\n",
       "      <td>CK Infrastructure Holdings Ltd</td>\n",
       "      <td>Utilities</td>\n",
       "      <td>HK</td>\n",
       "      <td>Asia</td>\n",
       "      <td>A</td>\n",
       "      <td>HKD</td>\n",
       "      <td>0.007842</td>\n",
       "      <td>0.043371</td>\n",
       "      <td>-0.035529</td>\n",
       "    </tr>\n",
       "    <tr>\n",
       "      <th>3</th>\n",
       "      <td>11 HK Equity</td>\n",
       "      <td>Hang Seng Bank Ltd</td>\n",
       "      <td>Financials</td>\n",
       "      <td>HK</td>\n",
       "      <td>Asia</td>\n",
       "      <td>AA-</td>\n",
       "      <td>HKD</td>\n",
       "      <td>0.027206</td>\n",
       "      <td>0.033166</td>\n",
       "      <td>-0.005960</td>\n",
       "    </tr>\n",
       "    <tr>\n",
       "      <th>4</th>\n",
       "      <td>1113 HK Equity</td>\n",
       "      <td>CK Asset Holdings Ltd</td>\n",
       "      <td>Real Estate</td>\n",
       "      <td>HK</td>\n",
       "      <td>Asia</td>\n",
       "      <td>A</td>\n",
       "      <td>HKD</td>\n",
       "      <td>0.031665</td>\n",
       "      <td>0.038268</td>\n",
       "      <td>-0.006603</td>\n",
       "    </tr>\n",
       "  </tbody>\n",
       "</table>\n",
       "</div>"
      ],
      "text/plain": [
       "               ID                            Name       Sector Country Region  \\\n",
       "0     1 HK Equity       CK Hutchison Holdings Ltd  Industrials      HK   Asia   \n",
       "1   101 HK Equity        Hang Lung Properties Ltd  Real Estate      HK   Asia   \n",
       "2  1038 HK Equity  CK Infrastructure Holdings Ltd    Utilities      HK   Asia   \n",
       "3    11 HK Equity              Hang Seng Bank Ltd   Financials      HK   Asia   \n",
       "4  1113 HK Equity           CK Asset Holdings Ltd  Real Estate      HK   Asia   \n",
       "\n",
       "  Credit Rating Currency  Portfolio Weight  Index Weight  Active (%)  \n",
       "0             A      HKD          0.039981      0.020410    0.019571  \n",
       "1           NaN      HKD          0.011732      0.108427   -0.096695  \n",
       "2             A      HKD          0.007842      0.043371   -0.035529  \n",
       "3           AA-      HKD          0.027206      0.033166   -0.005960  \n",
       "4             A      HKD          0.031665      0.038268   -0.006603  "
      ]
     },
     "execution_count": 12,
     "metadata": {},
     "output_type": "execute_result"
    }
   ],
   "source": [
    "# Data should be provided as a pandas DataFrame \n",
    "# This Dashboard requires a minimum dataset of: Security ID, Portfolio Weight, Index Weight and at least 2 grouping variable.\n",
    "# Import the sample portfolio dataset\n",
    "from bqdash.sample_data import port_sample_data\n",
    "\n",
    "# In the sample data set we provide 4 groupings (Sector, Country, Region, Credit Rating)\n",
    "port_sample_data.head()"
   ]
  },
  {
   "cell_type": "markdown",
   "metadata": {},
   "source": [
    "<h3><span style=\"color:orange\">Map you columns</span><br><span style=\"color:white\">To tell BqDash the important items in your dataset</span></h3>"
   ]
  },
  {
   "cell_type": "code",
   "execution_count": 10,
   "metadata": {},
   "outputs": [],
   "source": [
    "column_mappings = {'id_field':'Name', \n",
    "                   'group_field':['Sector','Region','Currency','Credit Rating'],\n",
    "                   'port_field':'Portfolio Weight',\n",
    "                   'index_field':'Index Weight'}"
   ]
  },
  {
   "cell_type": "markdown",
   "metadata": {},
   "source": [
    "<h3><span style=\"color:orange\">Run the Dashboard!</span><br><span style=\"color:white\">Provide the data and the mappings as arguments</span></h3>"
   ]
  },
  {
   "cell_type": "code",
   "execution_count": 8,
   "metadata": {},
   "outputs": [
    {
     "data": {
      "application/vnd.jupyter.widget-view+json": {
       "model_id": "58717317299c49cb998e6e313029a35e",
       "version_major": 2,
       "version_minor": 0
      },
      "text/plain": [
       "PortfolioDashboard(children=(HBox(children=(HTML(value='\\n            <h1  style=\" font-family: \"Helvetica Neu…"
      ]
     },
     "metadata": {},
     "output_type": "display_data"
    }
   ],
   "source": [
    "port = PortfolioDashboard(df=port_sample_data,column_mappings = column_mappings)\n",
    "port"
   ]
  },
  {
   "cell_type": "markdown",
   "metadata": {},
   "source": [
    "<h3><span style=\"color:orange\">Click on a Tile</span><br><span style=\"color:white\">To see the transparency behind the aggregate number</span></h3>\n"
   ]
  },
  {
   "cell_type": "markdown",
   "metadata": {},
   "source": [
    "<h3><span style=\"color:orange\">Update the Heatmap ColorScale</span><br><span style=\"color:white\">Here we show how you can use a matplotlib/Seaborn colorscale</span></h3>\n"
   ]
  },
  {
   "cell_type": "code",
   "execution_count": 13,
   "metadata": {},
   "outputs": [],
   "source": [
    "#import visualition libraries \n",
    "import matplotlib as mpl\n",
    "import seaborn as sns\n",
    "\n",
    "#create color scale\n",
    "color_scale = sns.light_palette(\"seagreen\")\n",
    "#create list of colors in the scale\n",
    "list_colors = list(map(mpl.colors.rgb2hex, color_scale))\n",
    "#use the update_colors() method to pass the new colors to the heatmap\n",
    "port.update_colors({'heat_map':list_colors})"
   ]
  }
 ],
 "metadata": {
  "kernelspec": {
   "display_name": "Python 3",
   "language": "python",
   "name": "python3"
  },
  "language_info": {
   "codemirror_mode": {
    "name": "ipython",
    "version": 3
   },
   "file_extension": ".py",
   "mimetype": "text/x-python",
   "name": "python",
   "nbconvert_exporter": "python",
   "pygments_lexer": "ipython3",
   "version": "3.8.5"
  }
 },
 "nbformat": 4,
 "nbformat_minor": 4
}
