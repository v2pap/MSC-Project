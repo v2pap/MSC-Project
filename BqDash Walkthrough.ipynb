{
 "cells": [
  {
   "cell_type": "markdown",
   "metadata": {},
   "source": [
    "<h1><a name=\"title\"></a><span style=\"color:orange\">BqDash: A Visualisation Library for Financial Dashboards</span></h1>\n",
    "\n",
    " \n",
    "<p  style=\"color:white;\"> BqDash is a library that makes it easy to create Interactive Dashboards helping you tell better stories from your data<br></p>\n",
    "\n",
    "\n",
    "<h3><span style=\"color:orange\">Choose from 3 Dashboards</span></h3>\n",
    "<p>\n",
    "<ul>\n",
    "    <li style=\"color:white;\"><a href=\"#portfolio\">The Portfolio Dashboard</a><br>\n",
    "        Use this dashboard to get key exposure insights on your portfolio based on the groupings that you define</li><br>\n",
    "    <li style=\"color:white;\"><a href=\"#scoring\">The Scoring  Dashboard</a><br>\n",
    "        Use this dashboard to gain insights into your scoring model on your portfolio or benchmark</li><br>\n",
    "    <li style=\"color:white;\"><a href=\"#esg\">The ESG Dashboard</a><br>\n",
    "        Use this dashboard to generate an Environmental, Social & Governance report for a security</li><br>\n",
    "</ul>\n",
    "</p>\n",
    "\n",
    "------"
   ]
  },
  {
   "cell_type": "markdown",
   "metadata": {},
   "source": [
    "<a id='portfolio'></a>\n",
    "<h3><span style=\"color:orange\">The Portfolio Dashboard </span></h3>\n",
    "\n",
    "[Click for in depth Tutorial](PortfolioAllocation.ipynb) \n",
    "\n",
    "<div  style=\"background-color:#202020; padding: 15px 25px;\">\n",
    "Use this dashboard to get key exposure insights on your portfolio\n",
    "\n",
    "<h3><span style=\"color:forestgreen\">Key Features</span></h3>\n",
    "    \n",
    "    \n",
    "<h5  style=\"color:white;\"> - Click on a grouping to see the transparency of the holdings, and investigate what securities are driving your exposure</h5>\n",
    "<h5  style=\"color:white;\"> - Change the type dropdown to pivot the view for fund, index or active weight exposures</h5>\n",
    "<h5  style=\"color:white;\"> - Change the x/y grouping dropdowns and select what catergories to view your exposures</h5><br>\n",
    "\n",
    " \n",
    "\n",
    "</div>\n",
    "\n",
    "\n",
    "\n",
    "![portfolio](images/portfolio.gif)\n",
    "<br><br><br>"
   ]
  },
  {
   "cell_type": "markdown",
   "metadata": {},
   "source": [
    "<a id='scoring'></a>\n",
    "<h3><span style=\"color:orange\">The Scoring Dashboard</span></h3>\n",
    "\n",
    "[Click for in depth Tutorial](FactorScoring.ipynb) \n",
    "\n",
    "<div  style=\"background-color:#202020;  padding: 15px 25px;\">\n",
    "\n",
    "<h5  style=\"color:white;\"> Use this dashboard to create an scorecard for you securities and gain valuable insight into their relative value</h5>\n",
    "\n",
    "<h3><span style=\"color:forestgreen\">Key Features</span></h3>\n",
    "\n",
    "<h5  style=\"color:white;\"> - Generate an Aggregate view based on a grouping of your choice</h5>\n",
    "<h5  style=\"color:white;\"> - View the Distribution of the universe scores</h5>\n",
    "<h5  style=\"color:white;\"> - Interact with the chart figures to dive deeper into the data and see the transparency in real-time</h5><br>\n",
    " \n",
    "\n",
    "</div>\n",
    "\n",
    "![scoring](images/scoring.gif)\n",
    "\n",
    "<br><br><br>"
   ]
  },
  {
   "cell_type": "markdown",
   "metadata": {},
   "source": [
    "<a id='esg'></a>\n",
    "<h3><span style=\"color:orange\">The ESG Dashboard</span></h3>\n",
    "\n",
    "[Click for in depth Tutorial](ESG.ipynb) \n",
    "\n",
    "<div  style=\"background-color:#202020;  padding: 15px 25px;\">\n",
    "\n",
    "\n",
    "<h3><span style=\"color:forestgreen\">Key Features</span></h3>\n",
    "\n",
    "<h5  style=\"color:white;\"> - Create individual ESG reports for the securities in your benchmark/portfolio</h5>\n",
    "<h5  style=\"color:white;\"> - Compare Internal ratings to thrid party provided ratings clearly and visually</h5>\n",
    "<h5  style=\"color:white;\"> - Track peer group performance </h5><br>\n",
    "    \n",
    "\n",
    "</div>\n",
    "\n",
    "![esg](images/esg.gif)\n",
    "\n",
    "<br><br><br>"
   ]
  },
  {
   "cell_type": "code",
   "execution_count": null,
   "metadata": {},
   "outputs": [],
   "source": []
  }
 ],
 "metadata": {
  "kernelspec": {
   "display_name": "Python 3",
   "language": "python",
   "name": "python3"
  },
  "language_info": {
   "codemirror_mode": {
    "name": "ipython",
    "version": 3
   },
   "file_extension": ".py",
   "mimetype": "text/x-python",
   "name": "python",
   "nbconvert_exporter": "python",
   "pygments_lexer": "ipython3",
   "version": "3.8.5"
  }
 },
 "nbformat": 4,
 "nbformat_minor": 4
}
