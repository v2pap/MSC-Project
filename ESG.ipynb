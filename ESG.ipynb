{
 "cells": [
  {
   "cell_type": "markdown",
   "metadata": {},
   "source": [
    "\n",
    "<h1><a name=\"title\"></a><span style=\"color:orange\">BqDash: A Visualisation Library for Financial Dashboards</span></h1>\n",
    "\n",
    " \n",
    "<h3  style=\"color:white;\"> BqDash is a library that makes it easy to create Interactive Dashboards helping you tell better stories from your data<br></h3>\n",
    "\n"
   ]
  },
  {
   "cell_type": "markdown",
   "metadata": {},
   "source": [
    "<a id='esg'></a>\n",
    "<h3><span style=\"color:orange\">The ESG Dashboard</span><br><span style=\"color:white\">Use this dashboard to get key esg insights on the securities in your portfolio\n",
    "</span></h3>\n",
    "\n",
    "\n",
    "<div  style=\"background-color:#202020;  padding: 15px 25px;\">\n",
    "\n",
    "<h3><span style=\"color:forestgreen\">Key Features</span></h3>\n",
    "\n",
    "- Create individual ESG reports for the securities in your benchmark/portfolio<br>\n",
    "- Compare Internal ratings to thrid party provided ratings clearly and visually<br>\n",
    "- Track peer group performance<br><br>\n",
    "</div>"
   ]
  },
  {
   "cell_type": "markdown",
   "metadata": {},
   "source": [
    "<h3><span style=\"color:orange\">Import</span><br><span style=\"color:white\">import the ESGDashboard from the bqdash library</span></h3>"
   ]
  },
  {
   "cell_type": "code",
   "execution_count": 9,
   "metadata": {},
   "outputs": [],
   "source": [
    "#import the relevant dashboard from the library\n",
    "from bqdash import EsgDashboard"
   ]
  },
  {
   "cell_type": "markdown",
   "metadata": {},
   "source": [
    "<h3><span style=\"color:orange\">Provide Your data</span><br><span style=\"color:white\">Review the sample data set to understand what you need to provide</span></h3>"
   ]
  },
  {
   "cell_type": "code",
   "execution_count": 14,
   "metadata": {},
   "outputs": [
    {
     "data": {
      "text/html": [
       "<div>\n",
       "<style scoped>\n",
       "    .dataframe tbody tr th:only-of-type {\n",
       "        vertical-align: middle;\n",
       "    }\n",
       "\n",
       "    .dataframe tbody tr th {\n",
       "        vertical-align: top;\n",
       "    }\n",
       "\n",
       "    .dataframe thead th {\n",
       "        text-align: right;\n",
       "    }\n",
       "</style>\n",
       "<table border=\"1\" class=\"dataframe\">\n",
       "  <thead>\n",
       "    <tr style=\"text-align: right;\">\n",
       "      <th></th>\n",
       "      <th>ID</th>\n",
       "      <th>NAME</th>\n",
       "      <th>GICS_SUB_INDUSTRY_NAME</th>\n",
       "      <th>DES</th>\n",
       "      <th>CNTRY_OF_DOMICILE</th>\n",
       "      <th>RATING DATE</th>\n",
       "      <th>Third Party ESG Rating</th>\n",
       "      <th>Internal ESG Rating</th>\n",
       "      <th>Pollution &amp; Waste</th>\n",
       "      <th>Climate Change</th>\n",
       "      <th>Corporate Governance</th>\n",
       "      <th>Product Liability</th>\n",
       "      <th>Social Opportunities</th>\n",
       "      <th>Human Capital</th>\n",
       "    </tr>\n",
       "  </thead>\n",
       "  <tbody>\n",
       "    <tr>\n",
       "      <th>0</th>\n",
       "      <td>AXP UN Equity</td>\n",
       "      <td>American Express Co</td>\n",
       "      <td>Consumer Finance</td>\n",
       "      <td>American Express Company is a global payment a...</td>\n",
       "      <td>US</td>\n",
       "      <td>2019-08-05</td>\n",
       "      <td>A</td>\n",
       "      <td>1</td>\n",
       "      <td>4</td>\n",
       "      <td>1</td>\n",
       "      <td>1</td>\n",
       "      <td>1</td>\n",
       "      <td>1</td>\n",
       "      <td>1</td>\n",
       "    </tr>\n",
       "    <tr>\n",
       "      <th>1</th>\n",
       "      <td>VZ UN Equity</td>\n",
       "      <td>Verizon Communications Inc</td>\n",
       "      <td>Integrated Telecommunication Services</td>\n",
       "      <td>Verizon Communications Inc. is an integrated t...</td>\n",
       "      <td>US</td>\n",
       "      <td>2019-08-05</td>\n",
       "      <td>AA</td>\n",
       "      <td>2</td>\n",
       "      <td>2</td>\n",
       "      <td>2</td>\n",
       "      <td>1</td>\n",
       "      <td>3</td>\n",
       "      <td>3</td>\n",
       "      <td>2</td>\n",
       "    </tr>\n",
       "    <tr>\n",
       "      <th>2</th>\n",
       "      <td>BA UN Equity</td>\n",
       "      <td>Boeing Co/The</td>\n",
       "      <td>Aerospace &amp; Defense</td>\n",
       "      <td>The Boeing Company, together with its subsidia...</td>\n",
       "      <td>US</td>\n",
       "      <td>2019-08-05</td>\n",
       "      <td>A</td>\n",
       "      <td>3</td>\n",
       "      <td>4</td>\n",
       "      <td>2</td>\n",
       "      <td>3</td>\n",
       "      <td>1</td>\n",
       "      <td>4</td>\n",
       "      <td>1</td>\n",
       "    </tr>\n",
       "    <tr>\n",
       "      <th>3</th>\n",
       "      <td>CAT UN Equity</td>\n",
       "      <td>Caterpillar Inc</td>\n",
       "      <td>Construction Machinery &amp; Heavy Trucks</td>\n",
       "      <td>Caterpillar Inc. designs, manufactures, and ma...</td>\n",
       "      <td>US</td>\n",
       "      <td>2019-08-05</td>\n",
       "      <td>BBB</td>\n",
       "      <td>1</td>\n",
       "      <td>4</td>\n",
       "      <td>3</td>\n",
       "      <td>4</td>\n",
       "      <td>1</td>\n",
       "      <td>3</td>\n",
       "      <td>2</td>\n",
       "    </tr>\n",
       "    <tr>\n",
       "      <th>4</th>\n",
       "      <td>JPM UN Equity</td>\n",
       "      <td>JPMorgan Chase &amp; Co</td>\n",
       "      <td>Diversified Banks</td>\n",
       "      <td>JPMorgan Chase &amp; Co. provides global financial...</td>\n",
       "      <td>US</td>\n",
       "      <td>2019-08-05</td>\n",
       "      <td>AAA</td>\n",
       "      <td>2</td>\n",
       "      <td>3</td>\n",
       "      <td>4</td>\n",
       "      <td>3</td>\n",
       "      <td>1</td>\n",
       "      <td>4</td>\n",
       "      <td>1</td>\n",
       "    </tr>\n",
       "  </tbody>\n",
       "</table>\n",
       "</div>"
      ],
      "text/plain": [
       "              ID                        NAME  \\\n",
       "0  AXP UN Equity         American Express Co   \n",
       "1   VZ UN Equity  Verizon Communications Inc   \n",
       "2   BA UN Equity               Boeing Co/The   \n",
       "3  CAT UN Equity             Caterpillar Inc   \n",
       "4  JPM UN Equity         JPMorgan Chase & Co   \n",
       "\n",
       "                  GICS_SUB_INDUSTRY_NAME  \\\n",
       "0                       Consumer Finance   \n",
       "1  Integrated Telecommunication Services   \n",
       "2                    Aerospace & Defense   \n",
       "3  Construction Machinery & Heavy Trucks   \n",
       "4                      Diversified Banks   \n",
       "\n",
       "                                                 DES CNTRY_OF_DOMICILE  \\\n",
       "0  American Express Company is a global payment a...                US   \n",
       "1  Verizon Communications Inc. is an integrated t...                US   \n",
       "2  The Boeing Company, together with its subsidia...                US   \n",
       "3  Caterpillar Inc. designs, manufactures, and ma...                US   \n",
       "4  JPMorgan Chase & Co. provides global financial...                US   \n",
       "\n",
       "  RATING DATE Third Party ESG Rating  Internal ESG Rating  Pollution & Waste  \\\n",
       "0  2019-08-05                      A                    1                  4   \n",
       "1  2019-08-05                     AA                    2                  2   \n",
       "2  2019-08-05                      A                    3                  4   \n",
       "3  2019-08-05                    BBB                    1                  4   \n",
       "4  2019-08-05                    AAA                    2                  3   \n",
       "\n",
       "   Climate Change  Corporate Governance  Product Liability  \\\n",
       "0               1                     1                  1   \n",
       "1               2                     1                  3   \n",
       "2               2                     3                  1   \n",
       "3               3                     4                  1   \n",
       "4               4                     3                  1   \n",
       "\n",
       "   Social Opportunities  Human Capital  \n",
       "0                     1              1  \n",
       "1                     3              2  \n",
       "2                     4              1  \n",
       "3                     3              2  \n",
       "4                     4              1  "
      ]
     },
     "execution_count": 14,
     "metadata": {},
     "output_type": "execute_result"
    }
   ],
   "source": [
    "# Data should be provided as a pandas DataFrame \n",
    "# This Dashboard requires a minimum dataset of: Security ID, sector, company description, internal rating, third party rating, third party rating date, individal esg factor scores\n",
    "# In the sample data set we provide 8 esg factor scores\n",
    "from bqdash.sample_data import esg_sample_data\n",
    "\n",
    "esg_sample_data.head()"
   ]
  },
  {
   "cell_type": "markdown",
   "metadata": {},
   "source": [
    "<h3><span style=\"color:orange\">Map you columns</span><br><span style=\"color:white\">To tell BqDash the important items in your dataset</span></h3>"
   ]
  },
  {
   "cell_type": "code",
   "execution_count": 15,
   "metadata": {},
   "outputs": [],
   "source": [
    "columns = {'id_field':'NAME', \n",
    "           'description_field':'DES',\n",
    "           'sector_field':'GICS_SUB_INDUSTRY_NAME',\n",
    "           'internal_score':'Internal ESG Rating',\n",
    "           'third_party_score':'Third Party ESG Rating',\n",
    "           'third_party_score_date':'RATING DATE',\n",
    "           'factor_score_fields':['Pollution & Waste','Climate Change','Corporate Governance',\n",
    "                                  'Product Liability','Social Opportunities','Human Capital']}\n",
    "\n"
   ]
  },
  {
   "cell_type": "markdown",
   "metadata": {},
   "source": [
    "<h3><span style=\"color:orange\">Run the Dashboard!</span><br><span style=\"color:white\">Provide the data and the mappings as arguments</span></h3>"
   ]
  },
  {
   "cell_type": "code",
   "execution_count": 16,
   "metadata": {},
   "outputs": [
    {
     "data": {
      "application/vnd.jupyter.widget-view+json": {
       "model_id": "9be6e064f0bc456986566089c771d3fa",
       "version_major": 2,
       "version_minor": 0
      },
      "text/plain": [
       "EsgDashboard(children=(HBox(children=(HTML(value='\\n            <h1  style=\" font-family: \"Helvetica Neue\", He…"
      ]
     },
     "metadata": {},
     "output_type": "display_data"
    }
   ],
   "source": [
    "esg = EsgDashboard(df=esg_sample_data,column_mappings=columns)\n",
    "esg"
   ]
  },
  {
   "cell_type": "markdown",
   "metadata": {},
   "source": [
    "<h3><span style=\"color:orange\">Click on Run Report</span><br><span style=\"color:white\">This generates the ESG Report for your selected security</span></h3>\n"
   ]
  },
  {
   "cell_type": "markdown",
   "metadata": {},
   "source": [
    "<h3><span style=\"color:orange\">Update the Colors</span><br><span style=\"color:white\">You need to pass in a dictionary where the keys are the element that you want to update and values are a color (Hex codes work best)</span></h3>"
   ]
  },
  {
   "cell_type": "code",
   "execution_count": 20,
   "metadata": {},
   "outputs": [],
   "source": [
    "esg.update_colors({'name':'#fffff','industry':'#ebf3ed','des':'#9fc9b1','third_party':'#2e8b57'})"
   ]
  },
  {
   "cell_type": "code",
   "execution_count": null,
   "metadata": {},
   "outputs": [],
   "source": []
  }
 ],
 "metadata": {
  "kernelspec": {
   "display_name": "Python 3",
   "language": "python",
   "name": "python3"
  },
  "language_info": {
   "codemirror_mode": {
    "name": "ipython",
    "version": 3
   },
   "file_extension": ".py",
   "mimetype": "text/x-python",
   "name": "python",
   "nbconvert_exporter": "python",
   "pygments_lexer": "ipython3",
   "version": "3.8.5"
  }
 },
 "nbformat": 4,
 "nbformat_minor": 4
}
