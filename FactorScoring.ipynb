{
 "cells": [
  {
   "cell_type": "markdown",
   "metadata": {},
   "source": [
    "\n",
    "<h1><a name=\"title\"></a><span style=\"color:orange\">BqDash: A Visualisation Library for Financial Dashboards</span></h1>\n",
    "\n",
    " \n",
    "<h3  style=\"color:white;\"> BqDash is a library that makes it easy to create Interactive Dashboards helping you tell better stories from your data<br></h3>\n",
    "\n",
    "\n"
   ]
  },
  {
   "cell_type": "markdown",
   "metadata": {},
   "source": [
    "<a id='portfolio'></a>\n",
    "\n",
    "<h3><span style=\"color:orange\">The Factor Scoring Dashboard</span><br><span style=\"color:white\">Use this dashboard to create an scorecard for you securities and gain valuable insight into their relative value</span></h3>\n",
    "\n",
    "\n",
    "<div  style=\"background-color:#202020;\">\n",
    "\n",
    "    \n",
    "<h3><span style=\"color:forestgreen\">Key Features</span></h3>\n",
    "\n",
    "- Generate an Aggregate view based on a grouping of your choice<br>\n",
    "- View the Distribution of the universe scores<br>\n",
    "- Interact with the chart figures to dive deeper into the data and see the transparency in real-time<br><br>\n",
    "</div>"
   ]
  },
  {
   "cell_type": "markdown",
   "metadata": {},
   "source": [
    "<h3><span style=\"color:orange\">Import</span><br><span style=\"color:white\">import the ScoringDashboard from the bqdash library</span></h3>"
   ]
  },
  {
   "cell_type": "code",
   "execution_count": 1,
   "metadata": {},
   "outputs": [],
   "source": [
    "#import the ScoringDashboard from the library\n",
    "from bqdash import ScoringDashboard"
   ]
  },
  {
   "cell_type": "code",
   "execution_count": 2,
   "metadata": {},
   "outputs": [
    {
     "data": {
      "text/html": [
       "<div>\n",
       "<style scoped>\n",
       "    .dataframe tbody tr th:only-of-type {\n",
       "        vertical-align: middle;\n",
       "    }\n",
       "\n",
       "    .dataframe tbody tr th {\n",
       "        vertical-align: top;\n",
       "    }\n",
       "\n",
       "    .dataframe thead th {\n",
       "        text-align: right;\n",
       "    }\n",
       "</style>\n",
       "<table border=\"1\" class=\"dataframe\">\n",
       "  <thead>\n",
       "    <tr style=\"text-align: right;\">\n",
       "      <th></th>\n",
       "      <th>ID</th>\n",
       "      <th>Name</th>\n",
       "      <th>Sector</th>\n",
       "      <th>Factor 1</th>\n",
       "      <th>Factor 2</th>\n",
       "      <th>Factor 3</th>\n",
       "      <th>Factor 4</th>\n",
       "      <th>Factor 5</th>\n",
       "      <th>Factor 6</th>\n",
       "      <th>Factor 7</th>\n",
       "      <th>Factor 8</th>\n",
       "      <th>Factor 9</th>\n",
       "      <th>Factor 10</th>\n",
       "      <th>Total Score</th>\n",
       "      <th>DATE</th>\n",
       "    </tr>\n",
       "  </thead>\n",
       "  <tbody>\n",
       "    <tr>\n",
       "      <th>0</th>\n",
       "      <td>BG039176 Corp</td>\n",
       "      <td>TPEIR 5 ½ 02/19/30</td>\n",
       "      <td>Financial</td>\n",
       "      <td>-0.83</td>\n",
       "      <td>-0.77</td>\n",
       "      <td>-0.82</td>\n",
       "      <td>3.09</td>\n",
       "      <td>0.61</td>\n",
       "      <td>-2.70</td>\n",
       "      <td>0.95</td>\n",
       "      <td>-2.52</td>\n",
       "      <td>0.25</td>\n",
       "      <td>0.01</td>\n",
       "      <td>-2.73</td>\n",
       "      <td>2020-07-16</td>\n",
       "    </tr>\n",
       "    <tr>\n",
       "      <th>1</th>\n",
       "      <td>ZP935314 Corp</td>\n",
       "      <td>ALPHA 4 ¼ 02/13/30</td>\n",
       "      <td>Financial</td>\n",
       "      <td>-1.28</td>\n",
       "      <td>-1.21</td>\n",
       "      <td>-1.27</td>\n",
       "      <td>3.09</td>\n",
       "      <td>0.61</td>\n",
       "      <td>-2.70</td>\n",
       "      <td>0.95</td>\n",
       "      <td>-2.52</td>\n",
       "      <td>0.25</td>\n",
       "      <td>0.01</td>\n",
       "      <td>-4.07</td>\n",
       "      <td>2020-07-16</td>\n",
       "    </tr>\n",
       "    <tr>\n",
       "      <th>2</th>\n",
       "      <td>AT183051 Corp</td>\n",
       "      <td>MOGOFI 9 ½ 07/10/22</td>\n",
       "      <td>Financial</td>\n",
       "      <td>-3.01</td>\n",
       "      <td>-2.91</td>\n",
       "      <td>-3.03</td>\n",
       "      <td>-0.86</td>\n",
       "      <td>-1.81</td>\n",
       "      <td>-0.03</td>\n",
       "      <td>0.99</td>\n",
       "      <td>1.76</td>\n",
       "      <td>-4.07</td>\n",
       "      <td>-1.52</td>\n",
       "      <td>-14.49</td>\n",
       "      <td>2020-07-16</td>\n",
       "    </tr>\n",
       "    <tr>\n",
       "      <th>3</th>\n",
       "      <td>BK424601 Corp</td>\n",
       "      <td>AVTR 3 ? 07/15/28</td>\n",
       "      <td>Consumer, Non-cyclical</td>\n",
       "      <td>-2.81</td>\n",
       "      <td>-2.58</td>\n",
       "      <td>-2.76</td>\n",
       "      <td>-0.92</td>\n",
       "      <td>-0.53</td>\n",
       "      <td>-0.75</td>\n",
       "      <td>-2.01</td>\n",
       "      <td>0.09</td>\n",
       "      <td>0.17</td>\n",
       "      <td>-1.69</td>\n",
       "      <td>-13.79</td>\n",
       "      <td>2020-07-16</td>\n",
       "    </tr>\n",
       "    <tr>\n",
       "      <th>4</th>\n",
       "      <td>BK321520 Corp</td>\n",
       "      <td>ALGSCO 6 ½ 02/15/23</td>\n",
       "      <td>Consumer, Non-cyclical</td>\n",
       "      <td>-4.44</td>\n",
       "      <td>-4.16</td>\n",
       "      <td>-4.39</td>\n",
       "      <td>-0.37</td>\n",
       "      <td>-0.96</td>\n",
       "      <td>1.06</td>\n",
       "      <td>-0.61</td>\n",
       "      <td>0.00</td>\n",
       "      <td>0.28</td>\n",
       "      <td>-0.18</td>\n",
       "      <td>-13.77</td>\n",
       "      <td>2020-07-16</td>\n",
       "    </tr>\n",
       "  </tbody>\n",
       "</table>\n",
       "</div>"
      ],
      "text/plain": [
       "              ID                 Name                  Sector  Factor 1  \\\n",
       "0  BG039176 Corp   TPEIR 5 ½ 02/19/30               Financial     -0.83   \n",
       "1  ZP935314 Corp   ALPHA 4 ¼ 02/13/30               Financial     -1.28   \n",
       "2  AT183051 Corp  MOGOFI 9 ½ 07/10/22               Financial     -3.01   \n",
       "3  BK424601 Corp    AVTR 3 ? 07/15/28  Consumer, Non-cyclical     -2.81   \n",
       "4  BK321520 Corp  ALGSCO 6 ½ 02/15/23  Consumer, Non-cyclical     -4.44   \n",
       "\n",
       "   Factor 2  Factor 3  Factor 4  Factor 5  Factor 6  Factor 7  Factor 8  \\\n",
       "0     -0.77     -0.82      3.09      0.61     -2.70      0.95     -2.52   \n",
       "1     -1.21     -1.27      3.09      0.61     -2.70      0.95     -2.52   \n",
       "2     -2.91     -3.03     -0.86     -1.81     -0.03      0.99      1.76   \n",
       "3     -2.58     -2.76     -0.92     -0.53     -0.75     -2.01      0.09   \n",
       "4     -4.16     -4.39     -0.37     -0.96      1.06     -0.61      0.00   \n",
       "\n",
       "   Factor 9  Factor 10  Total Score       DATE  \n",
       "0      0.25       0.01        -2.73 2020-07-16  \n",
       "1      0.25       0.01        -4.07 2020-07-16  \n",
       "2     -4.07      -1.52       -14.49 2020-07-16  \n",
       "3      0.17      -1.69       -13.79 2020-07-16  \n",
       "4      0.28      -0.18       -13.77 2020-07-16  "
      ]
     },
     "execution_count": 2,
     "metadata": {},
     "output_type": "execute_result"
    }
   ],
   "source": [
    "# Data should be provided as a pandas DataFrame \n",
    "# This Dashboard requires a minimum dataset of: Security ID, grouping variable, individual factor scores, total Score, date\n",
    "from bqdash.sample_data import scoring_sample_data\n",
    "\n",
    "# In the sample data set we provide 10 factor scores\n",
    "scoring_sample_data.head()"
   ]
  },
  {
   "cell_type": "markdown",
   "metadata": {},
   "source": [
    "<h3><span style=\"color:orange\">Map you columns</span><br><span style=\"color:white\">To tell BqDash the important items in your dataset</span></h3>"
   ]
  },
  {
   "cell_type": "code",
   "execution_count": 3,
   "metadata": {},
   "outputs": [],
   "source": [
    "columns = {'id_field':'Name', \n",
    "          'group_field':'Sector',\n",
    "          'total_score_field':'Total Score',\n",
    "          'date_field':'DATE',\n",
    "          'factor_score_fields':['Factor 1','Factor 2','Factor 3','Factor 4','Factor 5','Factor 6','Factor 7','Factor 8','Factor 9','Factor 10']}"
   ]
  },
  {
   "cell_type": "markdown",
   "metadata": {},
   "source": [
    "<h3><span style=\"color:orange\">Run the Dashboard!</span><br><span style=\"color:white\">Provide the data and the mappings as arguments</span></h3>"
   ]
  },
  {
   "cell_type": "code",
   "execution_count": 4,
   "metadata": {},
   "outputs": [
    {
     "data": {
      "application/vnd.jupyter.widget-view+json": {
       "model_id": "10505bc6072d4e498d212dc876aa34c2",
       "version_major": 2,
       "version_minor": 0
      },
      "text/plain": [
       "ScoringDashboard(children=(HBox(children=(HTML(value='\\n            <h1  style=\" font-family: \"Helvetica Neue\"…"
      ]
     },
     "metadata": {},
     "output_type": "display_data"
    }
   ],
   "source": [
    "score_ui = ScoringDashboard(df=scoring_sample_data,column_mappings = columns)\n",
    "score_ui"
   ]
  },
  {
   "cell_type": "markdown",
   "metadata": {},
   "source": [
    "<h3><span style=\"color:orange\">Try this out!</span><br>\n",
    "    <span style=\"color:white\">-Toggle the Date</span><br>\n",
    "    <span style=\"color:white\">-Click on a bar in the Histrogram or Bar Chart</span><br>\n",
    "    <span style=\"color:white\">-Click a point on the scatter plot and scrol down to see the time series</span>\n",
    "</h3>"
   ]
  },
  {
   "cell_type": "markdown",
   "metadata": {},
   "source": [
    "<h3><span style=\"color:orange\">Update the color of certain widgets</span><br><span style=\"color:white\">-Currently supported: distribution chart, median chart and scatter chart</span></h3>"
   ]
  },
  {
   "cell_type": "code",
   "execution_count": 8,
   "metadata": {},
   "outputs": [],
   "source": [
    "#import visualition libraries \n",
    "import matplotlib as mpl\n",
    "import seaborn as sns\n",
    "\n",
    "#create color scale\n",
    "color_scale = sns.color_palette(\"magma\")\n",
    "#create list of colors in the scale\n",
    "list_colors = list(map(mpl.colors.rgb2hex, color_scale))\n",
    "#use the update_colors() method to pass the new colors to the heatmap\n",
    "score_ui.update_colors({'distribution':'hotpink','median':list_colors,'scatter':'dodgerblue'})"
   ]
  }
 ],
 "metadata": {
  "kernelspec": {
   "display_name": "Python 3",
   "language": "python",
   "name": "python3"
  },
  "language_info": {
   "codemirror_mode": {
    "name": "ipython",
    "version": 3
   },
   "file_extension": ".py",
   "mimetype": "text/x-python",
   "name": "python",
   "nbconvert_exporter": "python",
   "pygments_lexer": "ipython3",
   "version": "3.8.5"
  }
 },
 "nbformat": 4,
 "nbformat_minor": 4
}
